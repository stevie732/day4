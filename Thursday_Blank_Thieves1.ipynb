{
 "cells": [
  {
   "cell_type": "markdown",
   "metadata": {},
   "source": [
    "# Object-Oriented-Programming (OOP)"
   ]
  },
  {
   "cell_type": "markdown",
   "metadata": {},
   "source": [
    "## Tasks Today:\n",
    "\n",
    "   \n",
    "\n",
    "1) <b>Creating a Class (Initializing/Declaring)</b> <br>\n",
    "2) <b>Using a Class (Instantiating)</b> <br>\n",
    " &nbsp;&nbsp;&nbsp;&nbsp; a) Creating One Instance <br>\n",
    " &nbsp;&nbsp;&nbsp;&nbsp; b) Creating Multiple Instances <br>\n",
    " &nbsp;&nbsp;&nbsp;&nbsp; c) In-Class Exercise #1 - Create a Class 'Car' and instantiate three different makes of cars <br>\n",
    "3) <b>The \\__init\\__() Method</b> <br>\n",
    " &nbsp;&nbsp;&nbsp;&nbsp; a) The 'self' Attribute <br>\n",
    "4) <b>Class Attributes</b> <br>\n",
    " &nbsp;&nbsp;&nbsp;&nbsp; a) Initializing Attributes <br>\n",
    " &nbsp;&nbsp;&nbsp;&nbsp; b) Setting an Attribute Outside of the \\__init\\__() Method <br>\n",
    " &nbsp;&nbsp;&nbsp;&nbsp; c) Setting Defaults for Attributes <br>\n",
    " &nbsp;&nbsp;&nbsp;&nbsp; d) Accessing Class Attributes <br>\n",
    " &nbsp;&nbsp;&nbsp;&nbsp; e) Changing Class Attributes <br>\n",
    " &nbsp;&nbsp;&nbsp;&nbsp; f) In-Class Exercise #2 - Add a color and wheels attribute to your 'Car' class <br>\n",
    "5) <b>Class Methods</b> <br>\n",
    " &nbsp;&nbsp;&nbsp;&nbsp; a) Creating <br>\n",
    " &nbsp;&nbsp;&nbsp;&nbsp; b) Calling <br>\n",
    " &nbsp;&nbsp;&nbsp;&nbsp; c) Modifying an Attribute's Value Through a Method <br>\n",
    " &nbsp;&nbsp;&nbsp;&nbsp; d) Incrementing an Attribute's Value Through a Method <br>\n",
    " &nbsp;&nbsp;&nbsp;&nbsp; e) In-Class Exercise #3 - Add a method that prints the cars color and wheel number, then call them <br>\n",
    "6) <b>Inheritance</b> <br>\n",
    " &nbsp;&nbsp;&nbsp;&nbsp; a) Syntax for Inheriting from a Parent Class <br>\n",
    " &nbsp;&nbsp;&nbsp;&nbsp; b) The \\__init\\__() Method for a Child Class (super()) <br>\n",
    " &nbsp;&nbsp;&nbsp;&nbsp; c) Defining Attributes and Methods for the Child Class <br>\n",
    " &nbsp;&nbsp;&nbsp;&nbsp; d) Method Overriding <br>\n",
    " &nbsp;&nbsp;&nbsp;&nbsp; e) In-Class Exercise #4 - Create a class 'Ford' that inherits from 'Car' class and initialize it as a Blue Ford Explorer with 4 wheels using the super() method <br>\n",
    "7) <b>Exercises</b> <br>\n",
    " &nbsp;&nbsp;&nbsp;&nbsp; a) Exercise #1 - Turn the shopping cart program from yesterday into an object-oriented program <br>"
   ]
  },
  {
   "cell_type": "markdown",
   "metadata": {},
   "source": [
    "## Creating a Class (Initializing/Declaring)\n",
    "<p>When creating a class, function, or even a variable you are initializing that object. Initializing and Declaring occur at the same time in Python, whereas in lower level languages you have to declare an object before initializing it. This is the first step in the process of using a class.</p>"
   ]
  },
  {
   "cell_type": "code",
   "execution_count": 2,
   "metadata": {},
   "outputs": [],
   "source": [
    "class Car():\n",
    "    wheels = 4\n",
    "    color = 'blue'\n",
    "\n"
   ]
  },
  {
   "cell_type": "markdown",
   "metadata": {},
   "source": [
    "## Using a Class (Instantiating)\n",
    "<p>The process of creating a class is called <i>Instantiating</i>. Each time you create a variable of that type of class, it is referred to as an <i>Instance</i> of that class. This is the second step in the process of using a class.</p>"
   ]
  },
  {
   "cell_type": "markdown",
   "metadata": {},
   "source": [
    "##### Creating One Instance"
   ]
  },
  {
   "cell_type": "code",
   "execution_count": 3,
   "metadata": {},
   "outputs": [
    {
     "name": "stdout",
     "output_type": "stream",
     "text": [
      "4\n"
     ]
    }
   ],
   "source": [
    "ford = Car()\n",
    "print(ford.wheels)"
   ]
  },
  {
   "cell_type": "markdown",
   "metadata": {},
   "source": [
    "##### Creating Multiple Instances"
   ]
  },
  {
   "cell_type": "code",
   "execution_count": 4,
   "metadata": {},
   "outputs": [
    {
     "name": "stdout",
     "output_type": "stream",
     "text": [
      "blue\n"
     ]
    }
   ],
   "source": [
    "nissan = Car()\n",
    "chevy = Car()\n",
    "lambo = Car()\n",
    "print(nissan.color)"
   ]
  },
  {
   "cell_type": "markdown",
   "metadata": {},
   "source": [
    "##### In-Class Exercise #1 - Create a Class 'Car' and Instantiate three different makes of cars"
   ]
  },
  {
   "cell_type": "code",
   "execution_count": null,
   "metadata": {},
   "outputs": [],
   "source": [
    "class Car():\n",
    "\n",
    "    \n",
    "    Honda = Car()\n",
    "    Telsa = Car()\n",
    "    Jaguar =Car()"
   ]
  },
  {
   "cell_type": "markdown",
   "metadata": {},
   "source": [
    "## The \\__init\\__() Method <br>\n",
    "<p>This method is used in almost every created class, and called only once upon the creation of the class instance. This method will initialize all variables needed for the object.</p>"
   ]
  },
  {
   "cell_type": "code",
   "execution_count": 6,
   "metadata": {},
   "outputs": [
    {
     "name": "stdout",
     "output_type": "stream",
     "text": [
      "Philadelphia\n"
     ]
    },
    {
     "data": {
      "text/plain": [
       "'USA'"
      ]
     },
     "execution_count": 6,
     "metadata": {},
     "output_type": "execute_result"
    }
   ],
   "source": [
    "class NflTeam():\n",
    "    def __init__(self, city, name):\n",
    "        self.city = city \n",
    "        self.name = name\n",
    "# create an instance of a new nfl team\n",
    "eagles = NflTeam('Philadelphia', 'Eagles') \n",
    "print(eagles.city)\n",
    "# self= eagle, so if you do eagle.city = city, the city being passed is Philadelphia, I know that because we passed philadelphia first which is = to city\n",
    "#  example if instance property: self.city = city   and     self.name = name\n",
    "\n",
    "\n",
    "\n",
    "class NflTeam():\n",
    "    country = 'USA'\n",
    "    def __init__(self, city, name):\n",
    "        self.city = city \n",
    "        self.name = name\n",
    "# create an instance of a new nfl team\n",
    "eagles = NflTeam('Philadelphia', 'Eagles') \n",
    "broncos = NflTeam('Denver', 'Broncos')\n",
    "eagles.country"
   ]
  },
  {
   "cell_type": "markdown",
   "metadata": {},
   "source": [
    "##### The 'self' Attribute <br>\n",
    "<p>This attribute is required to keep track of specific instance's attributes. Without the self attribute, the program would not know how to reference or keep track of an instance's attributes.</p>"
   ]
  },
  {
   "cell_type": "code",
   "execution_count": null,
   "metadata": {},
   "outputs": [],
   "source": [
    "# see above"
   ]
  },
  {
   "cell_type": "markdown",
   "metadata": {},
   "source": [
    "## Class Attributes <br>\n",
    "<p>While variables are inside of a class, they are referred to as attributes and not variables. When someone says 'attribute' you know they're speaking about a class. Attributes can be initialized through the init method, or outside of it.</p>"
   ]
  },
  {
   "cell_type": "markdown",
   "metadata": {},
   "source": [
    "##### Initializing Attributes"
   ]
  },
  {
   "cell_type": "code",
   "execution_count": null,
   "metadata": {},
   "outputs": [],
   "source": [
    "# see above"
   ]
  },
  {
   "cell_type": "markdown",
   "metadata": {},
   "source": [
    "##### Accessing Class Attributes"
   ]
  },
  {
   "cell_type": "code",
   "execution_count": null,
   "metadata": {
    "scrolled": true
   },
   "outputs": [],
   "source": [
    "# See Above"
   ]
  },
  {
   "cell_type": "markdown",
   "metadata": {},
   "source": [
    "##### Setting Defaults for Attributes"
   ]
  },
  {
   "cell_type": "code",
   "execution_count": 12,
   "metadata": {},
   "outputs": [
    {
     "name": "stdout",
     "output_type": "stream",
     "text": [
      "<__main__.NbaTeam object at 0x10783b6a0>\n"
     ]
    },
    {
     "data": {
      "text/plain": [
       "{'city': 'San Diego', 'name': 'heat', 'year': '2019'}"
      ]
     },
     "execution_count": 12,
     "metadata": {},
     "output_type": "execute_result"
    }
   ],
   "source": [
    "class NbaTeam():\n",
    "    def __init__(self, city, name, year=2023):\n",
    "        self.city = city\n",
    "        self.name = name\n",
    "        self.year = year\n",
    "\n",
    "heat = NbaTeam('miami', 'heat', '2019')\n",
    "\n",
    "heat.name\n",
    "#   changing an instance \n",
    "heat.city ='San Diego'\n",
    "print(heat)\n",
    "# viewing attributes\n",
    "heat.__dict__"
   ]
  },
  {
   "attachments": {},
   "cell_type": "markdown",
   "metadata": {},
   "source": [
    "##### Changing Instance Attributes <br>\n",
    "<p>Keep in mind there are global class attributes and then there are attributes only available to each class instance which won't effect other classes.</p>"
   ]
  },
  {
   "cell_type": "code",
   "execution_count": null,
   "metadata": {},
   "outputs": [],
   "source": [
    "# see above"
   ]
  },
  {
   "cell_type": "markdown",
   "metadata": {},
   "source": [
    "##### In-Class Exercise #2 - Add a doors and seats attribute to your 'Car' class then print out two different instances with different doors and seats"
   ]
  },
  {
   "cell_type": "code",
   "execution_count": 15,
   "metadata": {},
   "outputs": [
    {
     "data": {
      "text/plain": [
       "'leather'"
      ]
     },
     "execution_count": 15,
     "metadata": {},
     "output_type": "execute_result"
    }
   ],
   "source": [
    "# class NbaTeam():\n",
    "#     def __init__(self, city, name, year=2023):\n",
    "#         self.city = city\n",
    "#         self.name = name\n",
    "#         self.year = year\n",
    "\n",
    "# heat = NbaTeam('miami', 'heat', '2019')\n",
    "\n",
    "heat.name\n",
    "\n",
    "\n",
    "class Car():\n",
    "    def __init__(self,doors, seats):\n",
    "        self.doors= doors\n",
    "        self.seats=seats\n",
    "\n",
    "convertible=Car('droptop','leather')\n",
    "telsa=Car('butterfly','suede')\n",
    "\n",
    "telsa.doors\n",
    "convertible.seats\n",
    "\n",
    "\n",
    "    "
   ]
  },
  {
   "cell_type": "markdown",
   "metadata": {},
   "source": [
    "## Class Methods <br>\n",
    "<p>While inside of a class, functions are referred to as 'methods'. If you hear someone mention methods, they're speaking about classes. Methods are essentially functions, but only callable on the instances of a class.</p>"
   ]
  },
  {
   "cell_type": "markdown",
   "metadata": {},
   "source": [
    "##### Creating"
   ]
  },
  {
   "cell_type": "code",
   "execution_count": 32,
   "metadata": {},
   "outputs": [
    {
     "name": "stdout",
     "output_type": "stream",
     "text": [
      "heather was added to your roster!\n",
      " Your current roster is {'heather': 11}\n",
      "adrianne was added to your roster!\n",
      " Your current roster is {'heather': 11, 'adrianne': 8}\n",
      "alex was added to your roster!\n",
      " Your current roster is {'heather': 11, 'adrianne': 8, 'alex': 21}\n",
      " heather has been removed fromyour roster!\n",
      " Your current roster is {'adrianne': 8, 'alex': 21}.\n",
      " Your roster has 2\n",
      "---------Your current roster----------- \n",
      "adrianne 8\n",
      "alex 21\n"
     ]
    }
   ],
   "source": [
    "# homework\n",
    "\n",
    "class Roster():\n",
    "     def __init__(self):\n",
    "        self.depth_chart = {}\n",
    "        self.num_of_players = 0\n",
    "\n",
    "     def addPlayer(self):\n",
    "        name = input('What player would you like to add to your roster?')\n",
    "        jersey_num = int(input (f'What number will {name} have?'))\n",
    "        self.depth_chart[name]= jersey_num\n",
    "        self.num_of_players += 1\n",
    "        print(f'{name} was added to your roster!')\n",
    "        print(f' Your current roster is {self.depth_chart}')\n",
    "\n",
    "   \n",
    "     def removePlayer(self):\n",
    "          name = input('What player would you like to remove to your roster')\n",
    "          if(name in self.depth_chart):\n",
    "               del self.depth_chart[name]\n",
    "               self.num_of_players -= 1\n",
    "               print(f' {name} has been removed fromyour roster!')\n",
    "               print (f' Your current roster is {self.depth_chart}.')\n",
    "          else:\n",
    "               print(f'{name} is not on your team')\n",
    "\n",
    "     def showPlayers(self):\n",
    "          print(f' Your roster has {self.num_of_players} players on the team.')\n",
    "          print('---------Your Current Roster----------- ')\n",
    "          for key,value in self.depth_chart.items():\n",
    "               print(key,value)\n",
    "\n",
    "     def runner(self):\n",
    "      while True:\n",
    "          choice = input('What would you like to do? (add, remove, show or quit)').lower()\n",
    "          if(choice =='quit'):\n",
    "               print(f'Good Luck this season!')\n",
    "               break\n",
    "          elif (choice == 'add'):\n",
    "               self.addPlayer()\n",
    "          elif (choice == 'remove'):\n",
    "               self.removePlayer()\n",
    "          elif (choice == 'show'):\n",
    "               self.showPlayers()\n",
    "          else:\n",
    "               print('Invalid input, please try again...')\n",
    "\n",
    "thievesRoster = Roster()\n",
    "thievesRoster.runner()\n",
    "\n",
    "# thievesRoster = Roster()\n",
    "# thievesRoster.addPlayer()\n",
    "# thievesRoster.addPlayer()\n",
    "# thievesRoster.addPlayer()\n",
    "# thievesRoster.removePlayer()\n",
    "# thievesRoster.showPlayers()\n"
   ]
  },
  {
   "cell_type": "markdown",
   "metadata": {},
   "source": [
    "##### Calling"
   ]
  },
  {
   "cell_type": "code",
   "execution_count": null,
   "metadata": {},
   "outputs": [],
   "source": [
    "# See Above"
   ]
  },
  {
   "cell_type": "markdown",
   "metadata": {},
   "source": [
    "##### Modifying an Attribute's Value Through a Method"
   ]
  },
  {
   "cell_type": "code",
   "execution_count": null,
   "metadata": {},
   "outputs": [],
   "source": [
    "# see above\n"
   ]
  },
  {
   "cell_type": "markdown",
   "metadata": {},
   "source": [
    "##### Incrementing an Attribute's Value Through a Method"
   ]
  },
  {
   "cell_type": "code",
   "execution_count": null,
   "metadata": {},
   "outputs": [],
   "source": [
    "# see above\n"
   ]
  },
  {
   "cell_type": "markdown",
   "metadata": {},
   "source": [
    "## Inheritance <br>\n",
    "<p>You can create a child-parent relationship between two classes by using inheritance. What this allows you to do is have overriding methods, but also inherit traits from the parent class. Think of it as an actual parent and child, the child will inherit the parent's genes, as will the classes in OOP</p>"
   ]
  },
  {
   "cell_type": "markdown",
   "metadata": {},
   "source": [
    "##### Syntax for Inheriting from a Parent Class"
   ]
  },
  {
   "cell_type": "code",
   "execution_count": null,
   "metadata": {},
   "outputs": [],
   "source": []
  },
  {
   "cell_type": "markdown",
   "metadata": {},
   "source": [
    "##### The \\__init\\__() Method for a Child Class - super()"
   ]
  },
  {
   "cell_type": "code",
   "execution_count": null,
   "metadata": {
    "scrolled": true
   },
   "outputs": [],
   "source": [
    "# see above"
   ]
  },
  {
   "cell_type": "markdown",
   "metadata": {},
   "source": [
    "##### Defining Attributes and Methods for the Child Class"
   ]
  },
  {
   "cell_type": "code",
   "execution_count": null,
   "metadata": {},
   "outputs": [],
   "source": [
    "# See Above"
   ]
  },
  {
   "cell_type": "markdown",
   "metadata": {},
   "source": [
    "# Exercises"
   ]
  },
  {
   "cell_type": "markdown",
   "metadata": {},
   "source": [
    "### Exercise 1 - Turn the shopping cart program from yesterday into an object-oriented program\n",
    "\n",
    "The comments in the cell below are there as a guide for thinking about the problem. However, if you feel a different way is best for you and your own thought process, please do what feels best for you by all means."
   ]
  },
  {
   "cell_type": "code",
   "execution_count": null,
   "metadata": {},
   "outputs": [],
   "source": []
  },
  {
   "cell_type": "code",
   "execution_count": 2,
   "metadata": {},
   "outputs": [
    {
     "name": "stdout",
     "output_type": "stream",
     "text": [
      "beef was added to your shopping cart!\n",
      " The items in your shopping cart are {'beef': '3'}\n",
      " was added to your shopping cart!\n",
      " The items in your shopping cart are {'beef': '3', '': ''}\n",
      "escape is not in your current cart\n",
      " Your cart has the following items in it {'beef': '3', '': ''} .\n",
      "|--------Shopping Cart List---------|\n",
      "beef 3\n",
      " \n"
     ]
    }
   ],
   "source": [
    "# Create a class called cart that retains items and has methods to add, remove, and show\n",
    "\n",
    "class Cart():\n",
    "    def __init__(self):\n",
    "        self.shopping_cart = {}   \n",
    "        self.item_list = 0 \n",
    "\n",
    "    def addItem(self):\n",
    "        item = input('What items would you like to add to your shopping cart?')\n",
    "        item_price = (input(f' What  is the price of the {item} you added to your cart?'))\n",
    "        self.shopping_cart[item] = item_price\n",
    "        self.item_list += 1\n",
    "        print( f'{item} was added to your shopping cart!')\n",
    "        print(f' The items in your shopping cart are {self.shopping_cart}')\n",
    "\n",
    "    def removeItem(self):\n",
    "        item = input('Which item would you like to Remove from Cart')\n",
    "        if(item in self.shopping_cart):\n",
    "            del self.shopping_cart[item]\n",
    "            self.item_list -= 1\n",
    "            print (f'{item} has been removed from your shopping cart')\n",
    "            print(f' These are the items that are currently in your cart {self.shopping_cart}')\n",
    "        else:\n",
    "            print(f'{item} is not in your current cart')\n",
    "\n",
    "\n",
    "    def showCart(self):\n",
    "        print(f' Your cart has the following items in it {self.shopping_cart} .')\n",
    "        print( '|--------Shopping Cart List---------|')\n",
    "        for k, v in self.shopping_cart.items():\n",
    "            print(k,v)\n",
    "\n",
    "    def runner(self):\n",
    "      while True:\n",
    "          choice = input('What would you like to do? (add, remove, reveal or quit)').lower()\n",
    "          if(choice =='quit'):\n",
    "               print(f'Enjoy your groceries!')\n",
    "               break\n",
    "          elif (choice == 'add'):\n",
    "               self.addItem()\n",
    "          elif (choice == 'remove'):\n",
    "               self.removeItem()\n",
    "          elif (choice == 'reveal'):\n",
    "               self.showCart()\n",
    "          else:\n",
    "               print('Youre making stuff up now, please try again...')\n",
    "\n",
    "StevesDeli = Cart()\n",
    "StevesDeli.addItem()\n",
    "StevesDeli.addItem()\n",
    "StevesDeli.removeItem()\n",
    "StevesDeli.showCart()\n",
    "\n",
    "\n",
    "\n",
    "\n",
    "\n",
    "\n",
    "\n",
    "\n",
    "    "
   ]
  },
  {
   "cell_type": "markdown",
   "metadata": {},
   "source": [
    "### Exercise 2 - Write a Python class which has two methods get_String and print_String. get_String accept a string from the user and print_String print the string in upper case"
   ]
  },
  {
   "cell_type": "code",
   "execution_count": 11,
   "metadata": {},
   "outputs": [
    {
     "name": "stdout",
     "output_type": "stream",
     "text": [
      "Hello HEATHER\n"
     ]
    }
   ],
   "source": [
    "class TwoString():\n",
    "    def __init__(self):\n",
    "        self.firstString = ''\n",
    "    def get_String(self):\n",
    "       userinput= input('Please Enter Your name.').upper()\n",
    "       self.firstString = userinput\n",
    "       \n",
    "    def print_String(self):\n",
    "        print(f'Hello {self.firstString}')\n",
    " \n",
    "\n",
    "firstString= TwoString()\n",
    "firstString.get_String()\n",
    "firstString.print_String()\n",
    "    \n",
    "        \n",
    "    \n",
    "\n",
    "        "
   ]
  }
 ],
 "metadata": {
  "kernelspec": {
   "display_name": "Python 3 (ipykernel)",
   "language": "python",
   "name": "python3"
  },
  "language_info": {
   "codemirror_mode": {
    "name": "ipython",
    "version": 3
   },
   "file_extension": ".py",
   "mimetype": "text/x-python",
   "name": "python",
   "nbconvert_exporter": "python",
   "pygments_lexer": "ipython3",
   "version": "3.10.8"
  },
  "vscode": {
   "interpreter": {
    "hash": "aa82987a71ca0339a52998cd22613b0c002bda8349fa32a0cb67ceec3936a2bf"
   }
  }
 },
 "nbformat": 4,
 "nbformat_minor": 2
}
