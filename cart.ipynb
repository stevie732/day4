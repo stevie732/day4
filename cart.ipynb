{
 "cells": [
  {
   "cell_type": "markdown",
   "metadata": {},
   "source": [
    "Shopping Cart (OOP): Homework"
   ]
  },
  {
   "cell_type": "code",
   "execution_count": 1,
   "metadata": {},
   "outputs": [
    {
     "name": "stdout",
     "output_type": "stream",
     "text": [
      "soda was added to your shopping cart!\n",
      " The items in your shopping cart are {'soda': '$2'}\n",
      "reveal was added to your shopping cart!\n",
      " The items in your shopping cart are {'soda': '$2', 'reveal': ''}\n",
      " is not in your current cart\n",
      " Current Cart Consists Of The Following Items {'soda': '$2', 'reveal': ''} .\n",
      "|-------- Check Out Items ---------|\n",
      "soda $2\n",
      "reveal \n"
     ]
    }
   ],
   "source": [
    "class Cart():\n",
    "    def __init__(self):\n",
    "        self.shopping_cart = {}   \n",
    "        self.item_list = 0 \n",
    "\n",
    "    def addItem(self):\n",
    "        item = input('Howdy, Welcome to Delilahs Den, What items would you like to add to your shopping cart?')\n",
    "        item_price = (input(f' What  is the price of the {item} you added to your cart?'))\n",
    "        self.shopping_cart[item] = item_price\n",
    "        self.item_list += 1\n",
    "        print( f'{item} was added to your shopping cart!')\n",
    "        print(f' The items in your shopping cart are {self.shopping_cart}')\n",
    "\n",
    "    def removeItem(self):\n",
    "        item = input('Which item would you like to Remove from Cart')\n",
    "        if(item in self.shopping_cart):\n",
    "            del self.shopping_cart[item]\n",
    "            self.item_list -= 1\n",
    "            print (f'{item} has been removed from your shopping cart')\n",
    "            print(f' These are the items that are currently in your cart {self.shopping_cart}')\n",
    "        else:\n",
    "            print(f'{item} is not in your current cart')\n",
    "\n",
    "\n",
    "    def showCart(self):\n",
    "        print(f' Current Cart Consists Of The Following Items {self.shopping_cart} .')\n",
    "        print( '|-------- Check Out Items ---------|')\n",
    "        for k, v in self.shopping_cart.items():\n",
    "            print(k,v)\n",
    "\n",
    "    def runner(self):\n",
    "      while True:\n",
    "          choice = input('Choose Your Poison! (add, remove, reveal or quit)').lower()\n",
    "          if(choice =='quit'):\n",
    "               print(f'Now Go On, Get!!')\n",
    "               break\n",
    "          elif (choice == 'add'):\n",
    "               self.addItem()\n",
    "          elif (choice == 'remove'):\n",
    "               self.removeItem()\n",
    "          elif (choice == 'reveal'):\n",
    "               self.showCart()\n",
    "          else:\n",
    "               print('Youre making stuff up now, Try Again, Hurry Up & Buy...')\n",
    "\n",
    "StevesDeli = Cart()\n",
    "StevesDeli.addItem()\n",
    "StevesDeli.addItem()\n",
    "StevesDeli.removeItem()\n",
    "StevesDeli.showCart()"
   ]
  }
 ],
 "metadata": {
  "kernelspec": {
   "display_name": "Python 3 (ipykernel)",
   "language": "python",
   "name": "python3"
  },
  "language_info": {
   "codemirror_mode": {
    "name": "ipython",
    "version": 3
   },
   "file_extension": ".py",
   "mimetype": "text/x-python",
   "name": "python",
   "nbconvert_exporter": "python",
   "pygments_lexer": "ipython3",
   "version": "3.10.8"
  }
 },
 "nbformat": 4,
 "nbformat_minor": 2
}
